{
 "cells": [
  {
   "cell_type": "code",
   "execution_count": null,
   "id": "ea029041",
   "metadata": {},
   "outputs": [],
   "source": [
    "import vpython as vp\n",
    "import numpy as np"
   ]
  },
  {
   "cell_type": "code",
   "execution_count": null,
   "id": "15e1eb41",
   "metadata": {},
   "outputs": [],
   "source": [
    "initial_position = vp.vector(-4,0,0)\n",
    "initial_velocity = vp.vector(0,0,0)"
   ]
  },
  {
   "cell_type": "code",
   "execution_count": null,
   "id": "0c1ed910",
   "metadata": {},
   "outputs": [],
   "source": [
    "ball = vp.sphere(\n",
    "    pos=initial_position,\n",
    "    radius= 0.5,\n",
    "    color=vp.color.cyan,\n",
    "    \n",
    ")"
   ]
  },
  {
   "cell_type": "code",
   "execution_count": null,
   "id": "3a902987",
   "metadata": {},
   "outputs": [],
   "source": [
    "ball.velocity= initial_velocity\n",
    "ball.mass=0.1"
   ]
  },
  {
   "cell_type": "code",
   "execution_count": null,
   "id": "2cadc894",
   "metadata": {},
   "outputs": [],
   "source": [
    "rod = vp.cylinder(\n",
    "    pos=initial_position, axis=-ball.pos, radius=0.1\n",
    ")"
   ]
  },
  {
   "cell_type": "code",
   "execution_count": null,
   "id": "685ee2b0",
   "metadata": {},
   "outputs": [],
   "source": [
    "dt = 0.005\n",
    "t=0\n",
    "T=20\n",
    "k=10000\n",
    "d=4\n",
    "g=-9.81\n",
    "drag_coefficient=-0.001*0"
   ]
  },
  {
   "cell_type": "code",
   "execution_count": null,
   "id": "aeb71e6b",
   "metadata": {},
   "outputs": [],
   "source": [
    "kinetic= vp.gcurve(color=vp.color.blue)"
   ]
  },
  {
   "cell_type": "code",
   "execution_count": null,
   "id": "5fea4bea",
   "metadata": {},
   "outputs": [],
   "source": [
    "while t<T:\n",
    "    vp.rate(100)\n",
    "    relative_displacment = rod.length -d\n",
    "    ball_force =- k*relative_displacment * ball.pos.norm()\n",
    "    ball_force.y+= g\n",
    "    ball_force -= drag_coefficient * ball.velocity.mag**2*ball.velocity\n",
    "    acceleration = ball_force / ball.mass\n",
    "    ball.velocity+= acceleration * dt\n",
    "    ball.pos += ball.velocity * dt\n",
    "    rod.pos = ball.pos\n",
    "    rod.axis =-ball.pos\n",
    "    t= dt\n",
    "    "
   ]
  },
  {
   "cell_type": "code",
   "execution_count": null,
   "id": "d003e35d",
   "metadata": {},
   "outputs": [],
   "source": []
  },
  {
   "cell_type": "code",
   "execution_count": null,
   "id": "d318c3a1",
   "metadata": {},
   "outputs": [],
   "source": []
  },
  {
   "cell_type": "code",
   "execution_count": null,
   "id": "99af366d",
   "metadata": {},
   "outputs": [],
   "source": []
  }
 ],
 "metadata": {
  "kernelspec": {
   "display_name": "Python 3",
   "language": "python",
   "name": "python3"
  },
  "language_info": {
   "codemirror_mode": {
    "name": "ipython",
    "version": 3
   },
   "file_extension": ".py",
   "mimetype": "text/x-python",
   "name": "python",
   "nbconvert_exporter": "python",
   "pygments_lexer": "ipython3",
   "version": "3.8.8"
  }
 },
 "nbformat": 4,
 "nbformat_minor": 5
}
